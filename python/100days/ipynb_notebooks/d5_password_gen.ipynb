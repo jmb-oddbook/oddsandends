{
 "cells": [
  {
   "cell_type": "code",
   "execution_count": null,
   "metadata": {},
   "outputs": [],
   "source": [
    "#Password Generator Project\n",
    "import random\n",
    "letters = ['a', 'b', 'c', 'd', 'e', 'f', 'g', 'h', 'i', 'j', 'k', 'l', 'm', 'n', 'o', 'p', 'q', 'r', 's', 't', 'u', 'v', 'w', 'x', 'y', 'z', 'A', 'B', 'C', 'D', 'E', 'F', 'G', 'H', 'I', 'J', 'K', 'L', 'M', 'N', 'O', 'P', 'Q', 'R', 'S', 'T', 'U', 'V', 'W', 'X', 'Y', 'Z']\n",
    "numbers = ['0', '1', '2', '3', '4', '5', '6', '7', '8', '9']\n",
    "symbols = ['!', '#', '$', '%', '&', '(', ')', '*', '+']\n",
    "\n",
    "print(\"Welcome to the PyPassword Generator!\")\n",
    "nr_letters= int(input(\"How many letters would you like in your password?\\n\")) \n",
    "nr_symbols = int(input(f\"How many symbols would you like?\\n\"))\n",
    "nr_numbers = int(input(f\"How many numbers would you like?\\n\"))\n",
    "\n",
    "pwde = \"\"\n"
   ]
  },
  {
   "cell_type": "code",
   "execution_count": null,
   "metadata": {},
   "outputs": [],
   "source": [
    "#Eazy Level - Order not randomised:\n",
    "#e.g. 4 letter, 2 symbol, 2 number = JduE&!91\n",
    "for nr_letter in range(nr_letters):\n",
    "  pwde = pwde + random.choice(letters)\n",
    "\n",
    "for nr_symbol in range(nr_symbols):\n",
    "  pwde = pwde + random.choice(symbols)\n",
    "\n",
    "for nr_number in range(nr_numbers):\n",
    "  pwde = pwde + random.choice(numbers)\n",
    "\n",
    "print(pwde)\n",
    "\n"
   ]
  },
  {
   "cell_type": "code",
   "execution_count": null,
   "metadata": {},
   "outputs": [],
   "source": [
    "#Hard Level - Order of characters randomised:\n",
    "#e.g. 4 letter, 2 symbol, 2 number = g^2jk8&P\n",
    "pwdh = []\n",
    "for nr_letter in range(nr_letters):\n",
    "  pwdh.append(random.choice(letters))\n",
    "\n",
    "for nr_symbol in range(nr_symbols):\n",
    "  pwdh.append(random.choice(symbols))\n",
    "\n",
    "for nr_number in range(nr_numbers):\n",
    "  pwdh.append(random.choice(numbers))\n",
    "\n",
    "print(pwdh)\n",
    "random.shuffle(pwdh)\n",
    "print(pwdh)\n",
    "\n",
    "ps = \"\"\n",
    "for c in pwdh:\n",
    "  ps += c\n",
    "\n",
    "print(ps)"
   ]
  }
 ],
 "metadata": {
  "language_info": {
   "name": "python"
  },
  "orig_nbformat": 4
 },
 "nbformat": 4,
 "nbformat_minor": 2
}
