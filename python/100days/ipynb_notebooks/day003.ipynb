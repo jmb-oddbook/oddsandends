{
 "cells": [
  {
   "cell_type": "markdown",
   "metadata": {},
   "source": [
    "# Day 3 - Control Flow and Logical Operators"
   ]
  },
  {
   "cell_type": "code",
   "execution_count": null,
   "metadata": {},
   "outputs": [],
   "source": [
    "# Write a program that works out whether a given number is an odd or even number\n",
    "\n",
    "# Don't change the code below\n",
    "number = input(\"Which number do you want to check?\")\n",
    "# Don't change the code above\n",
    "\n",
    "# Write your code here\n",
    "if int(number) % 2 == 0:\n",
    "    print(f\"The number {number} is even.\")\n",
    "else:\n",
    "    print(f\"The number {number} is odd.\")\n",
    "\n",
    "# non-numbers need to caught by exception"
   ]
  },
  {
   "cell_type": "code",
   "execution_count": null,
   "metadata": {},
   "outputs": [],
   "source": [
    "# Write a program that calculates the Body Mass Index (BMI) from a user's weight and height\n",
    "# and return an explanation\n",
    "\n",
    "# Don't change the code below\n",
    "print(\"Note that commas are represented by a full stop.\")\n",
    "height = float(input(\"Enter your height in m: \"))\n",
    "weight = float(input(\"Enter your weight in kg: \"))\n",
    "# Don't change the code above\n",
    "\n",
    "# Write your code here\n",
    "bmi = round(weight / height ** 2)\n",
    "\n",
    "if bmi <= 18.5:\n",
    "    print(\"Underweight\")\n",
    "elif bmi <= 25:\n",
    "    print(\"Normal weight\")\n",
    "elif bmi <=30:\n",
    "    print(\"Overweight\")\n",
    "elif bmi <= 35:\n",
    "    print(\"Obese\")\n",
    "else:\n",
    "    print(\"Clinically obese\")"
   ]
  },
  {
   "cell_type": "code",
   "execution_count": null,
   "metadata": {},
   "outputs": [],
   "source": [
    "# Leap year calculator"
   ]
  },
  {
   "cell_type": "code",
   "execution_count": null,
   "metadata": {},
   "outputs": [],
   "source": [
    "# Pizza order"
   ]
  }
 ],
 "metadata": {
  "interpreter": {
   "hash": "b5cfa023891fceef02537f80a4c6e95b77988fb973cdb16a51cdb785092210be"
  },
  "kernelspec": {
   "display_name": "Python 3.9.7 ('base')",
   "language": "python",
   "name": "python3"
  },
  "language_info": {
   "codemirror_mode": {
    "name": "ipython",
    "version": 3
   },
   "file_extension": ".py",
   "mimetype": "text/x-python",
   "name": "python",
   "nbconvert_exporter": "python",
   "pygments_lexer": "ipython3",
   "version": "3.9.12"
  },
  "orig_nbformat": 4
 },
 "nbformat": 4,
 "nbformat_minor": 2
}
