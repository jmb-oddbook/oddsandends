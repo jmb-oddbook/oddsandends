{
 "cells": [
  {
   "cell_type": "markdown",
   "metadata": {},
   "source": [
    "# Day 3 - Control Flow and Logical Operators"
   ]
  },
  {
   "cell_type": "code",
   "execution_count": null,
   "metadata": {},
   "outputs": [],
   "source": [
    "# Write a program that works out whether a given number is an odd or even number\n",
    "\n",
    "# Don't change the code below\n",
    "number = input(\"Which number do you want to check?\")\n",
    "# Don't change the code above\n",
    "\n",
    "# Write your code here\n",
    "if int(number) % 2 == 0:\n",
    "    print(f\"The number {number} is even.\")\n",
    "else:\n",
    "    print(f\"The number {number} is odd.\")\n",
    "\n",
    "# non-numbers need to caught by exception"
   ]
  },
  {
   "cell_type": "code",
   "execution_count": null,
   "metadata": {},
   "outputs": [],
   "source": [
    "# Write a program that calculates the Body Mass Index (BMI) from a user's weight and height\n",
    "# and return an explanation\n",
    "\n",
    "# Don't change the code below\n",
    "print(\"Note that commas are represented by a full stop.\")\n",
    "height = float(input(\"Enter your height in m: \"))\n",
    "weight = float(input(\"Enter your weight in kg: \"))\n",
    "# Don't change the code above\n",
    "\n",
    "# Write your code here\n",
    "bmi = round(weight / height ** 2)\n",
    "\n",
    "if bmi <= 18.5:\n",
    "    print(\"Underweight\")\n",
    "elif bmi <= 25:\n",
    "    print(\"Normal weight\")\n",
    "elif bmi <=30:\n",
    "    print(\"Overweight\")\n",
    "elif bmi <= 35:\n",
    "    print(\"Obese\")\n",
    "else:\n",
    "    print(\"Clinically obese\")"
   ]
  },
  {
   "cell_type": "code",
   "execution_count": null,
   "metadata": {},
   "outputs": [],
   "source": [
    "# Leap year calculator"
   ]
  },
  {
   "cell_type": "code",
   "execution_count": null,
   "metadata": {},
   "outputs": [],
   "source": [
    "# Pizza order"
   ]
  },
  {
   "cell_type": "code",
   "execution_count": null,
   "metadata": {},
   "outputs": [],
   "source": [
    "\n",
    "# *******************************************************************************\n",
    "#           |                   |                  |                     |\n",
    "#  _________|________________.=\"\"_;=.______________|_____________________|_______\n",
    "# |                   |  ,-\"_,=\"\"     `\"=.|                  |\n",
    "# |___________________|__\"=._o`\"-._        `\"=.______________|___________________\n",
    "#           |                `\"=._o`\"=._      _`\"=._                     |\n",
    "#  _________|_____________________:=._o \"=._.\"_.-=\"'\"=.__________________|_______\n",
    "# |                   |    __.--\" , ; `\"=._o.\" ,-\"\"\"-._ \".   |\n",
    "# |___________________|_._\"  ,. .` ` `` ,  `\"-._\"-._   \". '__|___________________\n",
    "#           |           |o`\"=._` , \"` `; .\". ,  \"-._\"-._; ;              |\n",
    "#  _________|___________| ;`-.o`\"=._; .\" ` '`.\"\\` . \"-._ /_______________|_______\n",
    "# |                   | |o;    `\"-.o`\"=._``  '` \" ,__.--o;   |\n",
    "# |___________________|_| ;     (#) `-.o `\"=.`_.--\"_o.-; ;___|___________________\n",
    "# ____/______/______/___|o;._    \"      `\".o|o_.--\"    ;o;____/______/______/____\n",
    "# /______/______/______/_\"=._o--._        ; | ;        ; ;/______/______/______/_\n",
    "# ____/______/______/______/__\"=._o--._   ;o|o;     _._;o;____/______/______/____\n",
    "# /______/______/______/______/____\"=._o._; | ;_.--\"o.--\"_/______/______/______/_\n",
    "# ____/______/______/______/______/_____\"=.o|o_.--\"\"___/______/______/______/____\n",
    "# /______/______/______/______/______/______/______/______/______/______/_____ /\n",
    "# *******************************************************************************\n",
    "\n",
    "print(\"Welcome to Treasure Island.\")\n",
    "print(\"Your mission is to find the treasure.\") \n",
    "\n",
    "dir1 = input(\"Which way do you want to go? Type 'left' or 'right'\" ).lower()\n",
    "\n",
    "if dir1 == \"left\":\n",
    "  print(\"You have reached a river.\")\n",
    "  dir1 = input(\"Do you want to 'swim' or 'wait'? \").lower()\n",
    "  if dir1 == \"wait\":\n",
    "    print(\"While waiting three doors appear magically.\")\n",
    "    dir1 = input(\"Which door do you choose? 'Red', 'yellow', or 'blue'?\").lower()\n",
    "    if dir1 == \"red\":\n",
    "      print(\"You open the red door. A huge gout of flames surges out. Crispy critter. Game Over.\")\n",
    "    elif dir1 == \"blue\":\n",
    "      print(\"You open the blue door. The protesting hinges attract wildebeests, you are very tasty. Game Over.\")\n",
    "    elif dir1 == \"yellow\":\n",
    "      print(\"Well done you. You survived. Game Won.\")\n",
    "    else: # did not enter either red, blue, or yellow\n",
    "      print(\"You stand in the woods and can't decide which door to open. Slowly you grow older. \\n\\\n",
    "Moss settles on your legs, a spider builds its web beneath your nose, birds nest in your hair. \\n\\\n",
    "A tree gently places a branch over your shoulder. Somewhere, the hooting of an owl. Game Over.\")\n",
    "  else: # chose swim\n",
    "    print(\"You jump into the river and are attacked and eaten by trout. Game Over.\")\n",
    "else: # chose right\n",
    "  print(\"Fall into a hole. Game Over.\")"
   ]
  },
  {
   "cell_type": "code",
   "execution_count": null,
   "metadata": {},
   "outputs": [],
   "source": []
  }
 ],
 "metadata": {
  "interpreter": {
   "hash": "b5cfa023891fceef02537f80a4c6e95b77988fb973cdb16a51cdb785092210be"
  },
  "kernelspec": {
   "display_name": "Python 3.9.7 ('base')",
   "language": "python",
   "name": "python3"
  },
  "language_info": {
   "codemirror_mode": {
    "name": "ipython",
    "version": 3
   },
   "file_extension": ".py",
   "mimetype": "text/x-python",
   "name": "python",
   "nbconvert_exporter": "python",
   "pygments_lexer": "ipython3",
   "version": "3.9.7"
  },
  "orig_nbformat": 4
 },
 "nbformat": 4,
 "nbformat_minor": 2
}
